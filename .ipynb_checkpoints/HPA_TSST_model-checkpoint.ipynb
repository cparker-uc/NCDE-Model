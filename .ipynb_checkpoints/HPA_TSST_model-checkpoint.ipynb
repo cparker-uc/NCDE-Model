{
 "cells": [
  {
   "cell_type": "code",
   "execution_count": 17,
   "id": "beb9d3e4",
   "metadata": {},
   "outputs": [],
   "source": [
    "import torch\n",
    "import torch.nn as nn\n",
    "from scipy.integrate import odeint\n",
    "import numpy as np"
   ]
  },
  {
   "cell_type": "code",
   "execution_count": 18,
   "id": "657888c2",
   "metadata": {},
   "outputs": [],
   "source": [
    "DEVICE = torch.device('cpu')"
   ]
  },
  {
   "cell_type": "code",
   "execution_count": 19,
   "id": "67863b2a",
   "metadata": {},
   "outputs": [],
   "source": [
    "def func(params, y0):\n",
    "      \"\"\"This function solves the system to find the true mechanistic component\n",
    "      for graphing.\"\"\"\n",
    "      def stress(t):\n",
    "          if t < 30:\n",
    "              return 0\n",
    "          return torch.exp(-params['kdStress']*(t-30))\n",
    "\n",
    "      def ode_rhs(y, t):\n",
    "          y = torch.from_numpy(y).view(-1)\n",
    "          dy = torch.zeros(4)\n",
    "\n",
    "          # Apologies for the mess here, but typing out ODEs in Python is a bit of a\n",
    "          #  chore\n",
    "          wCRH = params['R0CRH'] + params['RCRH_CRH']*y[...,0] \\\n",
    "              + params['RSS_CRH']*stress(t) + params['RGR_CRH']*y[...,3]\n",
    "          FCRH = (params['MaxCRH'])/(1 + torch.exp(-params['sigma']*wCRH))\n",
    "          dy[0] = FCRH - params['tsCRH']*y[...,0]\n",
    "\n",
    "          wACTH = params['R0ACTH'] + params['RCRH_ACTH']*y[...,0] \\\n",
    "              + params['RGR_ACTH']*y[...,3]\n",
    "          FACTH = (params['MaxACTH'])/(1 + torch.exp(-params['sigma']*wACTH)) + params['BasalACTH']\n",
    "          dy[1] = FACTH - params['tsACTH']*y[...,1]\n",
    "\n",
    "          wCORT = params['R0CORT'] + params['RACTH_CORT']*y[...,1]\n",
    "          FCORT = (params['MaxCORT'])/(1 + torch.exp(-params['sigma']*wCORT)) + params['BasalCORT']\n",
    "          dy[2] = FCORT - params['tsCORT']*y[...,2]\n",
    "\n",
    "          wGR = params['R0GR'] + params['RCORT_GR']*y[...,2] + params['RGR_GR']*y[...,3]\n",
    "          FGR = params['ksGR']/(1 + torch.exp(-params['sigma']*wGR))\n",
    "          dy[3] = FGR - params['kdGR']*y[...,3]\n",
    "          return dy\n",
    "\n",
    "      t_eval = torch.linspace(0,140,40)\n",
    "      gflow = odeint(ode_rhs, y0, t_eval)\n",
    "      gflow = torch.from_numpy(gflow)\n",
    "      gflow = torch.cat((t_eval.view(-1,1), gflow), dim=1)\n",
    "      return gflow\n",
    "\n"
   ]
  },
  {
   "cell_type": "code",
   "execution_count": 20,
   "id": "6d9497bc",
   "metadata": {},
   "outputs": [],
   "source": [
    "def param_init_tsst(model: nn.Module):\n",
    "    \"\"\"Initialize the parameters for the mechanistic loss, and set them to\n",
    "    require gradient\"\"\"\n",
    "    R0CRH = torch.nn.Parameter(torch.tensor(-0.52239, device=DEVICE), requires_grad=False)\n",
    "    RCRH_CRH = torch.nn.Parameter(torch.tensor(0.97555, device=DEVICE), requires_grad=False)\n",
    "    RGR_CRH = torch.nn.Parameter(torch.tensor(-2.0241, device=DEVICE), requires_grad=False)\n",
    "    RSS_CRH = torch.nn.Parameter(torch.tensor(9.8594, device=DEVICE), requires_grad=False)\n",
    "    sigma = torch.nn.Parameter(torch.tensor(4.974, device=DEVICE), requires_grad=False)\n",
    "    tsCRH = torch.nn.Parameter(torch.tensor(0.10008, device=DEVICE), requires_grad=False)\n",
    "    R0ACTH = torch.nn.Parameter(torch.tensor(-0.29065, device=DEVICE), requires_grad=False)\n",
    "    RCRH_ACTH = torch.nn.Parameter(torch.tensor(6.006, device=DEVICE), requires_grad=False)\n",
    "    RGR_ACTH = torch.nn.Parameter(torch.tensor(-10.004, device=DEVICE), requires_grad=False)\n",
    "    tsACTH = torch.nn.Parameter(torch.tensor(0.046655, device=DEVICE), requires_grad=False)\n",
    "    R0CORT = torch.nn.Parameter(torch.tensor(-0.95265, device=DEVICE), requires_grad=False)\n",
    "    RACTH_CORT = torch.nn.Parameter(torch.tensor(0.022487, device=DEVICE), requires_grad=False)\n",
    "    tsCORT = torch.nn.Parameter(torch.tensor(0.048451, device=DEVICE), requires_grad=False)\n",
    "    R0GR = torch.nn.Parameter(torch.tensor(-0.49428, device=DEVICE), requires_grad=False)\n",
    "    RCORT_GR = torch.nn.Parameter(torch.tensor(0.02745, device=DEVICE), requires_grad=False)\n",
    "    RGR_GR = torch.nn.Parameter(torch.tensor(0.10572, device=DEVICE), requires_grad=False)\n",
    "    kdStress = torch.nn.Parameter(torch.tensor(0.19604, device=DEVICE), requires_grad=False)\n",
    "    stressStr = torch.nn.Parameter(torch.tensor(1., device=DEVICE), requires_grad=False)\n",
    "    MaxCRH = torch.nn.Parameter(torch.tensor(1.0011, device=DEVICE), requires_grad=False)\n",
    "    MaxACTH = torch.nn.Parameter(torch.tensor(140.2386, device=DEVICE), requires_grad=False)\n",
    "    MaxCORT = torch.nn.Parameter(torch.tensor(30.3072, device=DEVICE), requires_grad=False)\n",
    "    BasalACTH = torch.nn.Parameter(torch.tensor(0.84733, device=DEVICE), requires_grad=False)\n",
    "    BasalCORT = torch.nn.Parameter(torch.tensor(0.29757, device=DEVICE), requires_grad=False)\n",
    "    ksGR = torch.nn.Parameter(torch.tensor(0.40732, device=DEVICE), requires_grad=False)\n",
    "    kdGR = torch.nn.Parameter(torch.tensor(0.39307, device=DEVICE), requires_grad=False)\n",
    "\n",
    "    params = {\n",
    "        'R0CRH': R0CRH,\n",
    "        'RCRH_CRH': RCRH_CRH,\n",
    "        'RGR_CRH': RGR_CRH,\n",
    "        'RSS_CRH': RSS_CRH,\n",
    "        'sigma': sigma,\n",
    "        'tsCRH': tsCRH,\n",
    "        'R0ACTH': R0ACTH,\n",
    "        'RCRH_ACTH': RCRH_ACTH,\n",
    "        'RGR_ACTH': RGR_ACTH,\n",
    "        'tsACTH': tsACTH,\n",
    "        'R0CORT': R0CORT,\n",
    "        'RACTH_CORT': RACTH_CORT,\n",
    "        'tsCORT': tsCORT,\n",
    "        'R0GR': R0GR,\n",
    "        'RCORT_GR': RCORT_GR,\n",
    "        'RGR_GR': RGR_GR,\n",
    "        'kdStress': kdStress,\n",
    "        'stressStr': stressStr,\n",
    "        'MaxCRH': MaxCRH,\n",
    "        'MaxACTH': MaxACTH,\n",
    "        'MaxCORT': MaxCORT,\n",
    "        'BasalACTH': BasalACTH,\n",
    "        'BasalCORT': BasalCORT,\n",
    "        'ksGR': ksGR,\n",
    "        'kdGR': kdGR,\n",
    "    }\n",
    "    for key, val in params.items():\n",
    "        model.register_parameter(key, val)\n",
    "    return params"
   ]
  },
  {
   "cell_type": "code",
   "execution_count": 22,
   "id": "4e2cb29a",
   "metadata": {},
   "outputs": [],
   "source": [
    "params = param_init_tsst(nn.Module())"
   ]
  },
  {
   "cell_type": "code",
   "execution_count": null,
   "id": "f9222bfe",
   "metadata": {},
   "outputs": [],
   "source": [
    "for i in range(15):\n",
    "    "
   ]
  }
 ],
 "metadata": {
  "kernelspec": {
   "display_name": "Python 3 (ipykernel)",
   "language": "python",
   "name": "python3"
  },
  "language_info": {
   "codemirror_mode": {
    "name": "ipython",
    "version": 3
   },
   "file_extension": ".py",
   "mimetype": "text/x-python",
   "name": "python",
   "nbconvert_exporter": "python",
   "pygments_lexer": "ipython3",
   "version": "3.11.0"
  }
 },
 "nbformat": 4,
 "nbformat_minor": 5
}
